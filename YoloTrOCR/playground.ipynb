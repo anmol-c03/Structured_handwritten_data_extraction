{
  "cells": [
    {
      "cell_type": "code",
      "execution_count": null,
      "metadata": {
        "colab": {
          "base_uri": "https://localhost:8080/"
        },
        "id": "z-tjho1vE1It",
        "outputId": "a0da03a9-3447-4874-fa17-9b67ff52ce67"
      },
      "outputs": [
        {
          "name": "stdout",
          "output_type": "stream",
          "text": [
            "Mounted at /content/drive\n"
          ]
        }
      ],
      "source": [
        "from google.colab import drive\n",
        "drive.mount('/content/drive')"
      ]
    },
    {
      "cell_type": "code",
      "execution_count": null,
      "metadata": {
        "colab": {
          "base_uri": "https://localhost:8080/"
        },
        "id": "1UT9aPveGREu",
        "outputId": "5d3a847a-e804-4949-a564-c7fe29faa547"
      },
      "outputs": [
        {
          "name": "stdout",
          "output_type": "stream",
          "text": [
            "/content\n"
          ]
        }
      ],
      "source": [
        "!pwd"
      ]
    },
    {
      "cell_type": "code",
      "execution_count": null,
      "metadata": {
        "colab": {
          "base_uri": "https://localhost:8080/"
        },
        "id": "7ptGysu5GMAg",
        "outputId": "d8a8842d-ff81-4939-a65a-17c1b9327ab3"
      },
      "outputs": [
        {
          "name": "stdout",
          "output_type": "stream",
          "text": [
            "/content/drive/.shortcut-targets-by-id/1YoAqqLnGr6U9B2f1qTqr3J-Kb2VAm4Ip/YoloTrOCR\n"
          ]
        }
      ],
      "source": [
        "import os\n",
        "os.chdir(\"/content/drive/MyDrive/YoloTrOCR\")\n",
        "!pwd"
      ]
    },
    {
      "cell_type": "code",
      "execution_count": null,
      "metadata": {
        "colab": {
          "base_uri": "https://localhost:8080/"
        },
        "id": "11T2xAypbSKP",
        "outputId": "67cfcd0d-4457-4029-e8c2-2f10c3c76d36"
      },
      "outputs": [
        {
          "name": "stdout",
          "output_type": "stream",
          "text": [
            "aakritti_handwritten.jpg  images\t   models\t    report.JPG\t\t txt\n",
            "bboxes_image.jpg\t  main.py\t   __pycache__\t    text_detection.py\n",
            "DocLayout.ipynb\t\t  model_doclayout  report_good.JPG  text_recognition.py\n"
          ]
        }
      ],
      "source": [
        "!ls"
      ]
    },
    {
      "cell_type": "code",
      "execution_count": null,
      "metadata": {
        "colab": {
          "base_uri": "https://localhost:8080/"
        },
        "id": "LBDBPEC2diLY",
        "outputId": "ef7268e3-fc3b-4bed-c241-b74f1cb72afe"
      },
      "outputs": [],
      "source": [
        "# !pip install paddlepaddle-gpu\n",
        "# !pip install paddleocr\n"
      ]
    },
    {
      "cell_type": "code",
      "execution_count": null,
      "metadata": {
        "colab": {
          "base_uri": "https://localhost:8080/"
        },
        "collapsed": true,
        "id": "XxUl_hUiMBnn",
        "outputId": "f45bc5e2-f002-411d-e795-8d83a2abb807"
      },
      "outputs": [],
      "source": [
        "!pip install ultralytics"
      ]
    },
    {
      "cell_type": "code",
      "execution_count": null,
      "metadata": {
        "id": "GxnbMjjUbm9r"
      },
      "outputs": [],
      "source": [
        "\n",
        "import os\n",
        "# os.environ[\"GRADIO_TEMP_DIR\"] = \"./tmp\"\n",
        "\n",
        "import sys\n",
        "import torch\n",
        "import torchvision\n",
        "\n",
        "import numpy as np\n",
        "from PIL import Image\n",
        "from huggingface_hub import snapshot_download\n",
        "# from visualization import visualize_bbox"
      ]
    },
    {
      "cell_type": "code",
      "execution_count": null,
      "metadata": {
        "colab": {
          "base_uri": "https://localhost:8080/"
        },
        "collapsed": true,
        "id": "KVXmsrCYGSWv",
        "outputId": "20505010-49fa-4202-fde8-2976c6d4cfe1"
      },
      "outputs": [],
      "source": [
        "! pip install doclayout_yolo"
      ]
    },
    {
      "cell_type": "code",
      "execution_count": null,
      "metadata": {
        "colab": {
          "base_uri": "https://localhost:8080/"
        },
        "id": "6Jj4a2O8c4Ga",
        "outputId": "ee58a5f7-9722-4d62-ebb5-b40cade88486"
      },
      "outputs": [
        {
          "name": "stdout",
          "output_type": "stream",
          "text": [
            "All files and subdirectories in '/content/drive/MyDrive/YoloTrOCR/images/original' have been deleted.\n",
            "All files and subdirectories in '/content/drive/MyDrive/YoloTrOCR/images/resized' have been deleted.\n"
          ]
        }
      ],
      "source": [
        "import os\n",
        "import shutil\n",
        "\n",
        "def delete_all_files_in_folder(folder_path):\n",
        "    if os.path.exists(folder_path):\n",
        "        for file_name in os.listdir(folder_path):\n",
        "            file_path = os.path.join(folder_path, file_name)\n",
        "            try:\n",
        "                if os.path.isdir(file_path):\n",
        "                    shutil.rmtree(file_path)\n",
        "                else:\n",
        "                    # Remove file\n",
        "                    os.remove(file_path)\n",
        "            except Exception as e:\n",
        "                print(f\"Error deleting {file_path}: {e}\")\n",
        "        print(f\"All files and subdirectories in '{folder_path}' have been deleted.\")\n",
        "    else:\n",
        "        print(f\"The folder {folder_path} does not exist.\")\n",
        "\n",
        "folder_paths =[ \"/content/drive/MyDrive/YoloTrOCR/images/original\"  ,\"/content/drive/MyDrive/YoloTrOCR/images/resized\"]\n",
        "for folder_path in folder_paths:\n",
        "  delete_all_files_in_folder(folder_path)\n"
      ]
    },
    {
      "cell_type": "code",
      "execution_count": null,
      "metadata": {
        "colab": {
          "base_uri": "https://localhost:8080/",
          "height": 172,
          "referenced_widgets": [
            "326cc264d33a42588d2500a8c4db4756",
            "82542cc499f04355bf66d4a1ed0fd5fc",
            "a2ccbb95b9f944d1833741f0e0cf04b7",
            "3bed3be9e1b54ff0b8e69387745ff2bf",
            "0ca4f3be20794bb4913b265e25536fb0",
            "f68210d5573c44fa9b38f7ced752c3ee",
            "9cd42d30e7624194b17524e7b2b47da6",
            "1d94bde31b5d4418a12e6e6a8eb13438",
            "ce9dd469fa5a437abf874dc5ffe1eb0d",
            "1f48defac73a48dd92661a4170e00bb2",
            "2b7135f6368f43209d140184102ace0f",
            "e4257960032f4c919d98695fbb75e93d",
            "05cc6795cd194e9796df03576405424b",
            "a76ab8902efb4666af116f6b75c4653b",
            "58d74b48718a4744bd4bb78996cdbcd9",
            "417a5b59b92a40d0944a11031b2f0906",
            "2e0bb36c741848b3b2d0509457582179",
            "967b8ebca3c04d3b9d0ad4f3966c1927",
            "c1df4352b4c0418bb2c56e4c7f2ae605",
            "6a800e017eb74adabfa1b617b61e3a38",
            "a25219a91ef44b56923ed78f3dfa31dd",
            "1bdb687f9cd54a43a5365c61e3380bb9"
          ]
        },
        "id": "s2rmBws3QVkH",
        "outputId": "d63d3f00-c1a5-43b3-8efa-41c234a3fcb4"
      },
      "outputs": [],
      "source": [
        "import os\n",
        "from text_detection import *\n",
        "from text_recognition import *\n",
        "from Doclayout_yolo import *"
      ]
    },
    {
      "cell_type": "code",
      "execution_count": null,
      "metadata": {
        "colab": {
          "base_uri": "https://localhost:8080/"
        },
        "id": "o_mjBhwiSoYJ",
        "outputId": "19fcd041-b3ed-4b17-8f83-c379d00d7d87"
      },
      "outputs": [
        {
          "name": "stdout",
          "output_type": "stream",
          "text": [
            "\n",
            "0: 1024x672 3 plain texts, 1 abandon, 1 figure, 2 isolate_formulas, 111.0ms\n",
            "Speed: 5.8ms preprocess, 111.0ms inference, 1.1ms postprocess per image at shape (1, 3, 1024, 672)\n",
            "plain_text\n",
            "isolate_formula\n",
            "plain_text\n",
            "abandon\n",
            "figure\n",
            "isolate_formula\n"
          ]
        }
      ],
      "source": [
        "model_dir=os.path.join(root_path, \"model_doclayout\", \"DocLayout-YOLO-DocStructBench\", \"doclayout_yolo_docstructbench_imgsz1024.pt\")\n",
        "img_path=os.path.join(root_path,\"aakritti_handwritten.jpg\")\n",
        "\n",
        "doclayout_yolo=Doclayoutyolo(model_dir,img_path)\n",
        "doclayout_yolo.crop_images()"
      ]
    },
    {
      "cell_type": "code",
      "execution_count": null,
      "metadata": {
        "colab": {
          "base_uri": "https://localhost:8080/",
          "height": 35
        },
        "id": "aYMBZQ_sdlap",
        "outputId": "347bb827-4ecf-4453-ede3-215d5419510f"
      },
      "outputs": [
        {
          "data": {
            "application/vnd.google.colaboratory.intrinsic+json": {
              "type": "string"
            },
            "text/plain": [
              "'for paddleOCr'"
            ]
          },
          "execution_count": 45,
          "metadata": {},
          "output_type": "execute_result"
        }
      ],
      "source": [
        "'''for paddleOCr'''\n",
        "\n",
        "# from paddleocr import PaddleOCR, draw_ocr\n",
        "# import cv2\n",
        "# from matplotlib import pyplot as plt\n",
        "\n",
        "# # Initialize PaddleOCR\n",
        "# ocr = PaddleOCR(use_angle_cls=True, lang='en')  # Set 'ch' for Chinese\n",
        "\n",
        "# file_path = root_path\n",
        "# OG_IMG_DIR = os.path.join(file_path,  'images', 'original')\n",
        "# TEXT_FILE_DIR = os.path.join(file_path, 'txt')\n",
        "# with open(os.path.join(TEXT_FILE_DIR, \"predicted_test.txt\"), 'w') as file:\n",
        "#     pass\n",
        "\n",
        "# # Read the image\n",
        "# def pipeline_function(img_file):\n",
        "#   image_path = os.path.join(OG_IMG_DIR,img_file)\n",
        "#   image = cv2.imread(image_path)\n",
        "\n",
        "#   # Perform OCR\n",
        "#   results = ocr.ocr(image_path, cls=True)\n",
        "\n",
        "#   # Print results\n",
        "#   with open(os.path.join(TEXT_FILE_DIR, \"predicted_test.txt\"), 'a') as file:\n",
        "#     for line in results[0]:\n",
        "#       file.write(f\"Text: {line[1][0]}, Confidence: {line[1][1]:.2f}\\n\")\n",
        "\n",
        "\n",
        "# input_path=[]\n",
        "# if __name__ == \"__main__\":\n",
        "#   for image_path in os.listdir(OG_IMG_DIR):\n",
        "#     if image_path.endswith('.jpg'):\n",
        "#       input_path.append(image_path)\n",
        "#       pipeline_function(img_file=image_path)\n",
        "# #   boxes = [line[0] for line in results[0]]\n",
        "# #   texts = [line[1][0] for line in results[0]]\n",
        "# #   scores = [line[1][1] for line in results[0]]\n",
        "\n",
        "# #   # Draw the results on the image\n",
        "# #   image = cv2.cvtColor(image, cv2.COLOR_BGR2RGB)\n",
        "# #   result_image = draw_ocr(image, boxes, texts, scores)\n",
        "\n",
        "# # # Display the result\n",
        "# # plt.figure(figsize=(10, 10))\n",
        "# # plt.imshow(result_image)\n",
        "# # plt.axis('off')\n",
        "# # plt.show()\n"
      ]
    },
    {
      "cell_type": "code",
      "execution_count": null,
      "metadata": {
        "colab": {
          "base_uri": "https://localhost:8080/"
        },
        "id": "V0bcdQ3SKPSn",
        "outputId": "69f18b9b-f954-476d-f553-970853d25c25"
      },
      "outputs": [],
      "source": [
        "\n",
        "\n",
        "file_path = root_path\n",
        "OG_IMG_DIR = os.path.join(file_path,  'images', 'original')\n",
        "RESIZED_IMG_DIR = os.path.join(file_path, 'images', 'resized')\n",
        "\n",
        "\n",
        "TEXT_FILE_DIR = os.path.join(file_path, 'txt')\n",
        "with open(os.path.join(TEXT_FILE_DIR, \"predicted_test.txt\"), 'w') as file:\n",
        "    pass\n",
        "\n",
        "def pipeline_function(img_file):\n",
        "    \"\"\"\n",
        "    Detect texts on the provided document, resize the and generate respective text and saves into .txt file\n",
        "    :param img_file: Path of document\n",
        "    :return:\n",
        "    \"\"\"\n",
        "    text_det_obj = TextDetection(image_file=img_file)\n",
        "    text_rec_obj = TextRecognition()\n",
        "    key=img_file.split('_')[0]\n",
        "\n",
        "    _, cropped_images_file_name = text_det_obj.return_cropped_images()\n",
        "\n",
        "    texts = []\n",
        "    for cropped_image in cropped_images_file_name:\n",
        "        generated_text = text_rec_obj.return_generated_text(image_path=os.path.join(RESIZED_IMG_DIR, cropped_image))\n",
        "        if generated_text is None:\n",
        "          print(f'No text detected in {img_file}')\n",
        "          continue\n",
        "        texts.append(generated_text)\n",
        "\n",
        "    out_text='\\t'.join(texts)\n",
        "    with open(os.path.join(TEXT_FILE_DIR, \"predicted_test.txt\"), 'a') as file:\n",
        "        file.write(f'{key}:{out_text}\\n\\n')\n",
        "\n",
        "\n",
        "input_path=[]\n",
        "if __name__ == \"__main__\":\n",
        "  for image_path in os.listdir(OG_IMG_DIR):\n",
        "    if image_path.endswith('.jpg'):\n",
        "      input_path.append(image_path)\n",
        "      pipeline_function(img_file=image_path)"
      ]
    },
    {
      "cell_type": "markdown",
      "metadata": {
        "id": "Iq41cw76Wm0V"
      },
      "source": [
        "# filters for preprocessing"
      ]
    },
    {
      "cell_type": "code",
      "execution_count": null,
      "metadata": {
        "colab": {
          "base_uri": "https://localhost:8080/",
          "height": 217
        },
        "id": "mPyZ4HBobS7O",
        "outputId": "7252067b-63ca-426e-82be-e8c27d14d974"
      },
      "outputs": [
        {
          "data": {
            "image/jpeg": "[encoded data removed]",
            "image/png": "[encoded data removed]",
            "text/plain": [
              "<PIL.Image.Image image mode=L size=909x80>"
            ]
          },
          "metadata": {},
          "output_type": "display_data"
        },
        {
          "data": {
            "image/jpeg": "[encoded data removed]",
            "image/png": "[encoded data removed]",
            "text/plain": [
              "<PIL.Image.Image image mode=L size=949x120>"
            ]
          },
          "metadata": {},
          "output_type": "display_data"
        }
      ],
      "source": [
        "import cv2\n",
        "import numpy as np\n",
        "from google.colab.patches import cv2_imshow\n",
        "# Load image\n",
        "image = cv2.imread('/content/drive/MyDrive/YoloTrOCR/images/original/plain text_7.jpg', cv2.IMREAD_GRAYSCALE)\n",
        "\n",
        "cv2_imshow(image)\n",
        "# Padding parameters\n",
        "top, bottom, left, right = 20, 20, 20, 20 # Padding sizes\n",
        "border_color = (255, 255, 255)  # Blue color in BGR\n",
        "\n",
        "# Add padding\n",
        "padded_image = cv2.copyMakeBorder(image, top, bottom, left, right, cv2.BORDER_CONSTANT, value=border_color)\n",
        "\n",
        "# Display the result\n",
        "cv2_imshow(padded_image)\n",
        "cv2.waitKey(0)\n",
        "cv2.destroyAllWindows()\n",
        "\n"
      ]
    },
    {
      "cell_type": "code",
      "execution_count": null,
      "metadata": {
        "colab": {
          "base_uri": "https://localhost:8080/",
          "height": 158
        },
        "id": "danSKw9MJr1P",
        "outputId": "28643507-713d-4c01-8863-f1f3c0aff838"
      },
      "outputs": [
        {
          "data": {
            "image/jpeg": "[encoded data removed]",
            "image/png": "[encoded data removed]",
            "text/plain": [
              "<PIL.Image.Image image mode=L size=1137x141>"
            ]
          },
          "metadata": {},
          "output_type": "display_data"
        }
      ],
      "source": [
        "def gabor_filter(image, kernel_size, sigma, theta, lambd, gamma, psi):\n",
        "    kernel = cv2.getGaborKernel((kernel_size, kernel_size), sigma, theta, lambd, gamma, psi)\n",
        "    filtered_image = cv2.filter2D(image, cv2.CV_32F, kernel)\n",
        "    return filtered_image\n",
        "\n",
        "# Parameters for Gabor filter\n",
        "theta = 1  # Orientation of the filter\n",
        "gabor_result = gabor_filter(image, 31, 4.0, theta, 10.0, 0.5, 0)\n",
        "\n",
        "# Show the result\n",
        "cv2_imshow(gabor_result)\n",
        "cv2.waitKey(0)\n",
        "cv2.destroyAllWindows()\n"
      ]
    },
    {
      "cell_type": "code",
      "execution_count": null,
      "metadata": {
        "colab": {
          "base_uri": "https://localhost:8080/",
          "height": 158
        },
        "id": "Mh_EX1tdK1Cj",
        "outputId": "6c3d4ed6-5e25-40bc-840c-b82b6c317857"
      },
      "outputs": [
        {
          "data": {
            "image/jpeg": "[encoded data removed]",
            "image/png": "[encoded data removed]",
            "text/plain": [
              "<PIL.Image.Image image mode=L size=1137x141>"
            ]
          },
          "metadata": {},
          "output_type": "display_data"
        }
      ],
      "source": [
        "# Apply Median Filter\n",
        "median_filtered_image = cv2.medianBlur(image, 5)  # Kernel size = 5\n",
        "\n",
        "# Show the result\n",
        "cv2_imshow( median_filtered_image)\n",
        "cv2.waitKey(0)\n",
        "cv2.destroyAllWindows()\n"
      ]
    },
    {
      "cell_type": "markdown",
      "metadata": {
        "id": "cPEQ5Ux3WqOz"
      },
      "source": [
        "# use paddleOCR"
      ]
    },
    {
      "cell_type": "code",
      "execution_count": null,
      "metadata": {
        "id": "PsZm1YwPgXHA"
      },
      "outputs": [],
      "source": [
        "import cv2\n",
        "from PIL import Image, ImageDraw, ImageFont\n",
        "\n",
        "def draw_ocr2(image, boxes, texts, scores, font_path='arial.ttf', font_size=20):\n",
        "    \"\"\"\n",
        "    Draws OCR results on an image.\n",
        "\n",
        "    Parameters:\n",
        "    - image: The input image on which to draw.\n",
        "    - boxes: A list of bounding boxes for the detected text.\n",
        "    - texts: A list of detected text strings.\n",
        "    - scores: A list of confidence scores for each detected text.\n",
        "    - font_path: Path to the TrueType font file.\n",
        "    - font_size: Size of the font.\n",
        "\n",
        "    Returns:\n",
        "    - image_with_ocr: The image with drawn OCR results.\n",
        "    \"\"\"\n",
        "    # Convert the image to a PIL image\n",
        "    pil_image = Image.fromarray(image)\n",
        "    draw = ImageDraw.Draw(pil_image)\n",
        "\n",
        "    try:\n",
        "        # Load the font\n",
        "        font = ImageFont.truetype(font_path, font_size)\n",
        "    except IOError:\n",
        "        # Fallback font if custom font cannot be loaded\n",
        "        print(\"Custom font not found. Using default font.\")\n",
        "        font = ImageFont.load_default()\n",
        "\n",
        "    # Iterate through each detected text box\n",
        "    for (box, text, score) in zip(boxes, texts, scores):\n",
        "        # Draw the bounding box\n",
        "        draw.rectangle(box, outline=\"red\", width=2)\n",
        "        # Prepare the text with its confidence score\n",
        "        display_text = f'{text} ({score:.2f})'\n",
        "        # Draw the text\n",
        "        draw.text((box[0][0], box[0][1]), display_text, fill=\"blue\", font=font)\n",
        "\n",
        "    # Convert the PIL image back to a NumPy array (OpenCV format)\n",
        "    image_with_ocr = cv2.cvtColor(np.array(pil_image), cv2.COLOR_RGB2BGR)\n",
        "\n",
        "    return image_with_ocr\n"
      ]
    },
    {
      "cell_type": "code",
      "execution_count": null,
      "metadata": {
        "colab": {
          "base_uri": "https://localhost:8080/"
        },
        "id": "sdIn4wiEMAku",
        "outputId": "00659de2-7026-4182-efbc-4a8ebd44336a"
      },
      "outputs": [
        {
          "name": "stdout",
          "output_type": "stream",
          "text": [
            "[2025/01/16 19:14:00] ppocr DEBUG: Namespace(help='==SUPPRESS==', use_gpu=True, use_xpu=False, use_npu=False, use_mlu=False, ir_optim=True, use_tensorrt=False, min_subgraph_size=15, precision='fp32', gpu_mem=500, gpu_id=0, image_dir=None, page_num=0, det_algorithm='DB', det_model_dir='/root/.paddleocr/whl/det/en/en_PP-OCRv3_det_infer', det_limit_side_len=960, det_limit_type='max', det_box_type='quad', det_db_thresh=0.3, det_db_box_thresh=0.6, det_db_unclip_ratio=1.5, max_batch_size=10, use_dilation=False, det_db_score_mode='fast', det_east_score_thresh=0.8, det_east_cover_thresh=0.1, det_east_nms_thresh=0.2, det_sast_score_thresh=0.5, det_sast_nms_thresh=0.2, det_pse_thresh=0, det_pse_box_thresh=0.85, det_pse_min_area=16, det_pse_scale=1, scales=[8, 16, 32], alpha=1.0, beta=1.0, fourier_degree=5, rec_algorithm='SVTR_LCNet', rec_model_dir='/root/.paddleocr/whl/rec/en/en_PP-OCRv4_rec_infer', rec_image_inverse=True, rec_image_shape='3, 48, 320', rec_batch_num=6, max_text_length=25, rec_char_dict_path='/usr/local/lib/python3.11/dist-packages/paddleocr/ppocr/utils/en_dict.txt', use_space_char=True, vis_font_path='./doc/fonts/simfang.ttf', drop_score=0.5, e2e_algorithm='PGNet', e2e_model_dir=None, e2e_limit_side_len=768, e2e_limit_type='max', e2e_pgnet_score_thresh=0.5, e2e_char_dict_path='./ppocr/utils/ic15_dict.txt', e2e_pgnet_valid_set='totaltext', e2e_pgnet_mode='fast', use_angle_cls=True, cls_model_dir='/root/.paddleocr/whl/cls/ch_ppocr_mobile_v2.0_cls_infer', cls_image_shape='3, 48, 192', label_list=['0', '180'], cls_batch_num=6, cls_thresh=0.9, enable_mkldnn=False, cpu_threads=10, use_pdserving=False, warmup=False, sr_model_dir=None, sr_image_shape='3, 32, 128', sr_batch_num=1, draw_img_save_dir='./inference_results', save_crop_res=False, crop_res_save_dir='./output', use_mp=False, total_process_num=1, process_id=0, benchmark=False, save_log_path='./log_output/', show_log=True, use_onnx=False, return_word_box=False, output='./output', table_max_len=488, table_algorithm='TableAttn', table_model_dir=None, merge_no_span_structure=True, table_char_dict_path=None, formula_algorithm='LaTeXOCR', formula_model_dir=None, formula_char_dict_path=None, formula_batch_num=1, layout_model_dir=None, layout_dict_path=None, layout_score_threshold=0.5, layout_nms_threshold=0.5, kie_algorithm='LayoutXLM', ser_model_dir=None, re_model_dir=None, use_visual_backbone=True, ser_dict_path='../train_data/XFUND/class_list_xfun.txt', ocr_order_method=None, mode='structure', image_orientation=False, layout=True, table=True, formula=False, ocr=True, recovery=False, recovery_to_markdown=False, use_pdf2docx_api=False, invert=False, binarize=False, alphacolor=(255, 255, 255), lang='en', det=True, rec=True, type='ocr', savefile=False, ocr_version='PP-OCRv4', structure_version='PP-StructureV2')\n",
            "[2025/01/16 19:14:00] ppocr WARNING: The first GPU is used for inference by default, GPU ID: 0\n",
            "[2025/01/16 19:14:01] ppocr WARNING: The first GPU is used for inference by default, GPU ID: 0\n",
            "[2025/01/16 19:14:03] ppocr WARNING: The first GPU is used for inference by default, GPU ID: 0\n",
            "[2025/01/16 19:14:04] ppocr DEBUG: dt_boxes num : 57, elapsed : 0.07533764839172363\n",
            "[2025/01/16 19:14:04] ppocr DEBUG: cls num  : 57, elapsed : 0.20082473754882812\n",
            "[2025/01/16 19:14:04] ppocr DEBUG: rec_res num  : 57, elapsed : 0.36518144607543945\n",
            "TRIBHUVAN UNIVERSITY\n",
            "\n",
            "INSTITUTE OF ENGINEERING\n",
            "\n",
            "PULCHOWK CAMPUS\n",
            "\n",
            "M. Sc.-Mid-Term Evaluation : Supervisor\n",
            "\n",
            "Credit:4\n",
            "\n",
            "Full Marks:100\n",
            "\n",
            "Project Title:\n",
            "\n",
            "Emotion-Infused Speech Svnthesis Using Deep Learning\n",
            "\n",
            "Student (Name):\n",
            "\n",
            "Rashika Karki Roll No.:079msdsa019\n",
            "\n",
            "Supervisor :\n",
            "\n",
            "Asst Prof Dr Basanta Joshi\n",
            "\n",
            "S.No.\n",
            "\n",
            "Marking Parameters\n",
            "\n",
            "Full Marks\n",
            "\n",
            "Marks Obtained\n",
            "\n",
            "Remarks\n",
            "\n",
            "Regularity of meeting, working and reporting\n",
            "\n",
            "20\n",
            "\n",
            "1\n",
            "\n",
            "20\n",
            "\n",
            "IS\n",
            "\n",
            "2\n",
            "\n",
            "Degree of Completeness of Project\n",
            "\n",
            "20\n",
            "\n",
            "IS\n",
            "\n",
            "3\n",
            "\n",
            "Understanding of Project work & related theory\n",
            "\n",
            "20\n",
            "\n",
            "1%\n",
            "\n",
            "4\n",
            "\n",
            "Student effort consistency and results achieved\n",
            "\n",
            "20\n",
            "\n",
            "Organization of study and report documentation\n",
            "\n",
            "81\n",
            "\n",
            "5\n",
            "\n",
            "100\n",
            "\n",
            "91\n",
            "\n",
            "Total Marks\n",
            "\n",
            "Note:\n",
            "\n",
            "100%:Outstanding90%:Excellent75%G00d60%:Satisfactory50%Po0r,50%Fail\n",
            "\n",
            "Total Marks Obtained (in words):\n",
            "\n",
            "Comments:\n",
            "\n",
            "No wn delandi^g N oeeytic paamefeus\n",
            "\n",
            "6 emot.\n",
            "\n",
            "Suggestions & recommendations:\n",
            "\n",
            "Q mlliplesou\n",
            "\n",
            "hLeneeo\n",
            "\n",
            "Qen e^atm\n",
            "\n",
            "Examiner:\n",
            "\n",
            "Name : Asst Prof Dr Basanta Joshi\n",
            "\n",
            "Designation :\n",
            "\n",
            "Organization :\n",
            "\n",
            "Signature:\n",
            "\n",
            "Scanned with CamScanner\n",
            "\n"
          ]
        }
      ],
      "source": [
        "from paddleocr import PaddleOCR, draw_ocr\n",
        "import cv2\n",
        "from matplotlib import pyplot as plt\n",
        "\n",
        "\n",
        "ocr = PaddleOCR(use_angle_cls=True, lang='en')  # Set 'ch' for Chinese\n",
        "\n",
        "# Read the image\n",
        "image_path = '/content/drive/MyDrive/YoloTrOCR/report.JPG'\n",
        "image = cv2.imread(image_path)\n",
        "\n",
        "# Perform OCR\n",
        "results = ocr.ocr(image_path, cls=True)\n",
        "\n",
        "# Print results\n",
        "for line in results[0]:\n",
        "    print(f\"{line[1][0]}\\n\")\n",
        "\n",
        "# # # Visualize results\n",
        "# # # Extract boxes, text, and scores\n",
        "# boxes = [line[0] for line in results[0]]\n",
        "# texts = [line[1][0] for line in results[0]]\n",
        "# scores = [line[1][1] for line in results[0]]\n",
        "\n",
        "# # Draw the results on the image\n",
        "# image = cv2.cvtColor(image, cv2.COLOR_BGR2RGB)\n",
        "# result_image = draw_ocr(image, boxes, texts, scores, font_path='/usr/share/fonts/truetype/dejavu/DejaVuSans.ttf')\n",
        "\n",
        "\n",
        "# # Display the result\n",
        "# plt.figure(figsize=(10, 10))\n",
        "# plt.imshow(result_image)\n",
        "# plt.axis('off')\n",
        "# plt.show()\n"
      ]
    },
    {
      "cell_type": "code",
      "execution_count": null,
      "metadata": {
        "colab": {
          "base_uri": "https://localhost:8080/"
        },
        "collapsed": true,
        "id": "XaqDZ34Jgy2Q",
        "outputId": "2e550561-dd35-41a6-97df-bb2910231ecb"
      },
      "outputs": [],
      "source": [
        "!apt-get install -y fonts-dejavu\n",
        "!fc-cache -fv"
      ]
    },
    {
      "cell_type": "markdown",
      "metadata": {
        "id": "5-6yI2vVWHUy"
      },
      "source": [
        "# playing with yolo"
      ]
    },
    {
      "cell_type": "code",
      "execution_count": null,
      "metadata": {
        "id": "1fxUwCpRhVBT"
      },
      "outputs": [],
      "source": []
    },
    {
      "cell_type": "code",
      "execution_count": null,
      "metadata": {
        "collapsed": true,
        "id": "0ALE1y8fZobf"
      },
      "outputs": [],
      "source": [
        "from ultralytics import YOLO\n",
        "from huggingface_hub import hf_hub_download\n",
        "from matplotlib import pyplot as plt\n",
        "\n",
        "# Load the weights from our repository\n",
        "model_path = hf_hub_download(local_dir=\".\",\n",
        "                             repo_id=\"armvectores/yolov8n_handwritten_text_detection\",\n",
        "                             filename=\"best.pt\")\n",
        "model = YOLO(model_path)\n",
        "\n",
        "\n",
        "# Specify the image path\n",
        "image_path = \"/content/figure_1.jpg\"  # Replace with your image path\n",
        "\n",
        "# Perform prediction\n",
        "results = model.predict(\n",
        "    source=image_path,\n",
        "    project='.',\n",
        "    name='detected',\n",
        "    exist_ok=True,\n",
        "    save=True,\n",
        "    show=False,\n",
        "    show_labels=False,\n",
        "    show_conf=False,\n",
        "    conf=0.2\n",
        ")\n",
        "\n",
        "# Display the result\n"
      ]
    },
    {
      "cell_type": "code",
      "execution_count": null,
      "metadata": {
        "id": "pNYpugBzWbTY"
      },
      "outputs": [],
      "source": [
        "detected_image_path = '/content/detected/figure_1.jpg'  # Update based on the output name\n",
        "plt.figure(figsize=(15, 10))\n",
        "plt.imshow(plt.imread(detected_image_path))\n",
        "plt.axis('off')\n",
        "plt.show()\n",
        "\n"
      ]
    },
    {
      "cell_type": "code",
      "execution_count": null,
      "metadata": {
        "colab": {
          "background_save": true
        },
        "id": "iTYS3SBLWsru",
        "outputId": "545bc162-3f0a-40dd-ffe9-25c297ab6f56"
      },
      "outputs": [
        {
          "ename": "DisabledFunctionError",
          "evalue": "cv2.imshow() is disabled in Colab, because it causes Jupyter sessions\nto crash; see https://github.com/jupyter/notebook/issues/3935.\nAs a substitution, consider using\n  from google.colab.patches import cv2_imshow\n",
          "output_type": "error",
          "traceback": [
            "\u001b[0;31m---------------------------------------------------------------------------\u001b[0m",
            "\u001b[0;31mDisabledFunctionError\u001b[0m                     Traceback (most recent call last)",
            "\u001b[0;32m<ipython-input-1-1708e9682cc0>\u001b[0m in \u001b[0;36m<cell line: 0>\u001b[0;34m()\u001b[0m\n\u001b[1;32m     51\u001b[0m \u001b[0;34m\u001b[0m\u001b[0m\n\u001b[1;32m     52\u001b[0m \u001b[0;31m# Example usage\u001b[0m\u001b[0;34m\u001b[0m\u001b[0;34m\u001b[0m\u001b[0m\n\u001b[0;32m---> 53\u001b[0;31m \u001b[0msegment_handwritten_text\u001b[0m\u001b[0;34m(\u001b[0m\u001b[0;34m'/content/figure_1.jpg'\u001b[0m\u001b[0;34m)\u001b[0m\u001b[0;34m\u001b[0m\u001b[0;34m\u001b[0m\u001b[0m\n\u001b[0m",
            "\u001b[0;32m<ipython-input-1-1708e9682cc0>\u001b[0m in \u001b[0;36msegment_handwritten_text\u001b[0;34m(image_path)\u001b[0m\n\u001b[1;32m     43\u001b[0m         \u001b[0;31m# Save or display each segmented region\u001b[0m\u001b[0;34m\u001b[0m\u001b[0;34m\u001b[0m\u001b[0m\n\u001b[1;32m     44\u001b[0m         \u001b[0mcv2\u001b[0m\u001b[0;34m.\u001b[0m\u001b[0mimwrite\u001b[0m\u001b[0;34m(\u001b[0m\u001b[0;34mf'segmented_region_{i}.png'\u001b[0m\u001b[0;34m,\u001b[0m \u001b[0msegmented_image\u001b[0m\u001b[0;34m)\u001b[0m\u001b[0;34m\u001b[0m\u001b[0;34m\u001b[0m\u001b[0m\n\u001b[0;32m---> 45\u001b[0;31m         \u001b[0mcv2\u001b[0m\u001b[0;34m.\u001b[0m\u001b[0mimshow\u001b[0m\u001b[0;34m(\u001b[0m\u001b[0;34mf'Segmented Region {i}'\u001b[0m\u001b[0;34m,\u001b[0m \u001b[0msegmented_image\u001b[0m\u001b[0;34m)\u001b[0m\u001b[0;34m\u001b[0m\u001b[0;34m\u001b[0m\u001b[0m\n\u001b[0m\u001b[1;32m     46\u001b[0m \u001b[0;34m\u001b[0m\u001b[0m\n\u001b[1;32m     47\u001b[0m     \u001b[0;31m# Display the original image with bounding boxes\u001b[0m\u001b[0;34m\u001b[0m\u001b[0;34m\u001b[0m\u001b[0m\n",
            "\u001b[0;32m/usr/local/lib/python3.11/dist-packages/google/colab/_import_hooks/_cv2.py\u001b[0m in \u001b[0;36mwrapped\u001b[0;34m(*args, **kwargs)\u001b[0m\n\u001b[1;32m     46\u001b[0m   \u001b[0;32mdef\u001b[0m \u001b[0mwrapped\u001b[0m\u001b[0;34m(\u001b[0m\u001b[0;34m*\u001b[0m\u001b[0margs\u001b[0m\u001b[0;34m,\u001b[0m \u001b[0;34m**\u001b[0m\u001b[0mkwargs\u001b[0m\u001b[0;34m)\u001b[0m\u001b[0;34m:\u001b[0m\u001b[0;34m\u001b[0m\u001b[0;34m\u001b[0m\u001b[0m\n\u001b[1;32m     47\u001b[0m     \u001b[0;32mif\u001b[0m \u001b[0;32mnot\u001b[0m \u001b[0mos\u001b[0m\u001b[0;34m.\u001b[0m\u001b[0menviron\u001b[0m\u001b[0;34m.\u001b[0m\u001b[0mget\u001b[0m\u001b[0;34m(\u001b[0m\u001b[0menv_var\u001b[0m\u001b[0;34m,\u001b[0m \u001b[0;32mFalse\u001b[0m\u001b[0;34m)\u001b[0m\u001b[0;34m:\u001b[0m\u001b[0;34m\u001b[0m\u001b[0;34m\u001b[0m\u001b[0m\n\u001b[0;32m---> 48\u001b[0;31m       \u001b[0;32mraise\u001b[0m \u001b[0mDisabledFunctionError\u001b[0m\u001b[0;34m(\u001b[0m\u001b[0mmessage\u001b[0m\u001b[0;34m,\u001b[0m \u001b[0mname\u001b[0m \u001b[0;32mor\u001b[0m \u001b[0mfunc\u001b[0m\u001b[0;34m.\u001b[0m\u001b[0m__name__\u001b[0m\u001b[0;34m)\u001b[0m\u001b[0;34m\u001b[0m\u001b[0;34m\u001b[0m\u001b[0m\n\u001b[0m\u001b[1;32m     49\u001b[0m     \u001b[0;32mreturn\u001b[0m \u001b[0mfunc\u001b[0m\u001b[0;34m(\u001b[0m\u001b[0;34m*\u001b[0m\u001b[0margs\u001b[0m\u001b[0;34m,\u001b[0m \u001b[0;34m**\u001b[0m\u001b[0mkwargs\u001b[0m\u001b[0;34m)\u001b[0m\u001b[0;34m\u001b[0m\u001b[0;34m\u001b[0m\u001b[0m\n\u001b[1;32m     50\u001b[0m \u001b[0;34m\u001b[0m\u001b[0m\n",
            "\u001b[0;31mDisabledFunctionError\u001b[0m: cv2.imshow() is disabled in Colab, because it causes Jupyter sessions\nto crash; see https://github.com/jupyter/notebook/issues/3935.\nAs a substitution, consider using\n  from google.colab.patches import cv2_imshow\n"
          ]
        }
      ],
      "source": []
    }
  ],
  "metadata": {
    "accelerator": "GPU",
    "colab": {
      "gpuType": "T4",
      "provenance": []
    },
    "kernelspec": {
      "display_name": "Python 3",
      "name": "python3"
    },
    "language_info": {
      "name": "python"
    },
    "widgets": {
      "application/vnd.jupyter.widget-state+json": {
        "05cc6795cd194e9796df03576405424b": {
          "model_module": "@jupyter-widgets/controls",
          "model_module_version": "1.5.0",
          "model_name": "HTMLModel",
          "state": {
            "_dom_classes": [],
            "_model_module": "@jupyter-widgets/controls",
            "_model_module_version": "1.5.0",
            "_model_name": "HTMLModel",
            "_view_count": null,
            "_view_module": "@jupyter-widgets/controls",
            "_view_module_version": "1.5.0",
            "_view_name": "HTMLView",
            "description": "",
            "description_tooltip": null,
            "layout": "IPY_MODEL_2e0bb36c741848b3b2d0509457582179",
            "placeholder": "​",
            "style": "IPY_MODEL_967b8ebca3c04d3b9d0ad4f3966c1927",
            "value": "Fetching 3 files: 100%"
          }
        },
        "0ca4f3be20794bb4913b265e25536fb0": {
          "model_module": "@jupyter-widgets/base",
          "model_module_version": "1.2.0",
          "model_name": "LayoutModel",
          "state": {
            "_model_module": "@jupyter-widgets/base",
            "_model_module_version": "1.2.0",
            "_model_name": "LayoutModel",
            "_view_count": null,
            "_view_module": "@jupyter-widgets/base",
            "_view_module_version": "1.2.0",
            "_view_name": "LayoutView",
            "align_content": null,
            "align_items": null,
            "align_self": null,
            "border": null,
            "bottom": null,
            "display": null,
            "flex": null,
            "flex_flow": null,
            "grid_area": null,
            "grid_auto_columns": null,
            "grid_auto_flow": null,
            "grid_auto_rows": null,
            "grid_column": null,
            "grid_gap": null,
            "grid_row": null,
            "grid_template_areas": null,
            "grid_template_columns": null,
            "grid_template_rows": null,
            "height": null,
            "justify_content": null,
            "justify_items": null,
            "left": null,
            "margin": null,
            "max_height": null,
            "max_width": null,
            "min_height": null,
            "min_width": null,
            "object_fit": null,
            "object_position": null,
            "order": null,
            "overflow": null,
            "overflow_x": null,
            "overflow_y": null,
            "padding": null,
            "right": null,
            "top": null,
            "visibility": null,
            "width": null
          }
        },
        "1bdb687f9cd54a43a5365c61e3380bb9": {
          "model_module": "@jupyter-widgets/controls",
          "model_module_version": "1.5.0",
          "model_name": "DescriptionStyleModel",
          "state": {
            "_model_module": "@jupyter-widgets/controls",
            "_model_module_version": "1.5.0",
            "_model_name": "DescriptionStyleModel",
            "_view_count": null,
            "_view_module": "@jupyter-widgets/base",
            "_view_module_version": "1.2.0",
            "_view_name": "StyleView",
            "description_width": ""
          }
        },
        "1d94bde31b5d4418a12e6e6a8eb13438": {
          "model_module": "@jupyter-widgets/base",
          "model_module_version": "1.2.0",
          "model_name": "LayoutModel",
          "state": {
            "_model_module": "@jupyter-widgets/base",
            "_model_module_version": "1.2.0",
            "_model_name": "LayoutModel",
            "_view_count": null,
            "_view_module": "@jupyter-widgets/base",
            "_view_module_version": "1.2.0",
            "_view_name": "LayoutView",
            "align_content": null,
            "align_items": null,
            "align_self": null,
            "border": null,
            "bottom": null,
            "display": null,
            "flex": null,
            "flex_flow": null,
            "grid_area": null,
            "grid_auto_columns": null,
            "grid_auto_flow": null,
            "grid_auto_rows": null,
            "grid_column": null,
            "grid_gap": null,
            "grid_row": null,
            "grid_template_areas": null,
            "grid_template_columns": null,
            "grid_template_rows": null,
            "height": null,
            "justify_content": null,
            "justify_items": null,
            "left": null,
            "margin": null,
            "max_height": null,
            "max_width": null,
            "min_height": null,
            "min_width": null,
            "object_fit": null,
            "object_position": null,
            "order": null,
            "overflow": null,
            "overflow_x": null,
            "overflow_y": null,
            "padding": null,
            "right": null,
            "top": null,
            "visibility": null,
            "width": "20px"
          }
        },
        "1f48defac73a48dd92661a4170e00bb2": {
          "model_module": "@jupyter-widgets/base",
          "model_module_version": "1.2.0",
          "model_name": "LayoutModel",
          "state": {
            "_model_module": "@jupyter-widgets/base",
            "_model_module_version": "1.2.0",
            "_model_name": "LayoutModel",
            "_view_count": null,
            "_view_module": "@jupyter-widgets/base",
            "_view_module_version": "1.2.0",
            "_view_name": "LayoutView",
            "align_content": null,
            "align_items": null,
            "align_self": null,
            "border": null,
            "bottom": null,
            "display": null,
            "flex": null,
            "flex_flow": null,
            "grid_area": null,
            "grid_auto_columns": null,
            "grid_auto_flow": null,
            "grid_auto_rows": null,
            "grid_column": null,
            "grid_gap": null,
            "grid_row": null,
            "grid_template_areas": null,
            "grid_template_columns": null,
            "grid_template_rows": null,
            "height": null,
            "justify_content": null,
            "justify_items": null,
            "left": null,
            "margin": null,
            "max_height": null,
            "max_width": null,
            "min_height": null,
            "min_width": null,
            "object_fit": null,
            "object_position": null,
            "order": null,
            "overflow": null,
            "overflow_x": null,
            "overflow_y": null,
            "padding": null,
            "right": null,
            "top": null,
            "visibility": null,
            "width": null
          }
        },
        "2b7135f6368f43209d140184102ace0f": {
          "model_module": "@jupyter-widgets/controls",
          "model_module_version": "1.5.0",
          "model_name": "DescriptionStyleModel",
          "state": {
            "_model_module": "@jupyter-widgets/controls",
            "_model_module_version": "1.5.0",
            "_model_name": "DescriptionStyleModel",
            "_view_count": null,
            "_view_module": "@jupyter-widgets/base",
            "_view_module_version": "1.2.0",
            "_view_name": "StyleView",
            "description_width": ""
          }
        },
        "2e0bb36c741848b3b2d0509457582179": {
          "model_module": "@jupyter-widgets/base",
          "model_module_version": "1.2.0",
          "model_name": "LayoutModel",
          "state": {
            "_model_module": "@jupyter-widgets/base",
            "_model_module_version": "1.2.0",
            "_model_name": "LayoutModel",
            "_view_count": null,
            "_view_module": "@jupyter-widgets/base",
            "_view_module_version": "1.2.0",
            "_view_name": "LayoutView",
            "align_content": null,
            "align_items": null,
            "align_self": null,
            "border": null,
            "bottom": null,
            "display": null,
            "flex": null,
            "flex_flow": null,
            "grid_area": null,
            "grid_auto_columns": null,
            "grid_auto_flow": null,
            "grid_auto_rows": null,
            "grid_column": null,
            "grid_gap": null,
            "grid_row": null,
            "grid_template_areas": null,
            "grid_template_columns": null,
            "grid_template_rows": null,
            "height": null,
            "justify_content": null,
            "justify_items": null,
            "left": null,
            "margin": null,
            "max_height": null,
            "max_width": null,
            "min_height": null,
            "min_width": null,
            "object_fit": null,
            "object_position": null,
            "order": null,
            "overflow": null,
            "overflow_x": null,
            "overflow_y": null,
            "padding": null,
            "right": null,
            "top": null,
            "visibility": null,
            "width": null
          }
        },
        "326cc264d33a42588d2500a8c4db4756": {
          "model_module": "@jupyter-widgets/controls",
          "model_module_version": "1.5.0",
          "model_name": "HBoxModel",
          "state": {
            "_dom_classes": [],
            "_model_module": "@jupyter-widgets/controls",
            "_model_module_version": "1.5.0",
            "_model_name": "HBoxModel",
            "_view_count": null,
            "_view_module": "@jupyter-widgets/controls",
            "_view_module_version": "1.5.0",
            "_view_name": "HBoxView",
            "box_style": "",
            "children": [
              "IPY_MODEL_82542cc499f04355bf66d4a1ed0fd5fc",
              "IPY_MODEL_a2ccbb95b9f944d1833741f0e0cf04b7",
              "IPY_MODEL_3bed3be9e1b54ff0b8e69387745ff2bf"
            ],
            "layout": "IPY_MODEL_0ca4f3be20794bb4913b265e25536fb0"
          }
        },
        "3bed3be9e1b54ff0b8e69387745ff2bf": {
          "model_module": "@jupyter-widgets/controls",
          "model_module_version": "1.5.0",
          "model_name": "HTMLModel",
          "state": {
            "_dom_classes": [],
            "_model_module": "@jupyter-widgets/controls",
            "_model_module_version": "1.5.0",
            "_model_name": "HTMLModel",
            "_view_count": null,
            "_view_module": "@jupyter-widgets/controls",
            "_view_module_version": "1.5.0",
            "_view_name": "HTMLView",
            "description": "",
            "description_tooltip": null,
            "layout": "IPY_MODEL_1f48defac73a48dd92661a4170e00bb2",
            "placeholder": "​",
            "style": "IPY_MODEL_2b7135f6368f43209d140184102ace0f",
            "value": " 0/0 [00:00&lt;?, ?it/s]"
          }
        },
        "417a5b59b92a40d0944a11031b2f0906": {
          "model_module": "@jupyter-widgets/base",
          "model_module_version": "1.2.0",
          "model_name": "LayoutModel",
          "state": {
            "_model_module": "@jupyter-widgets/base",
            "_model_module_version": "1.2.0",
            "_model_name": "LayoutModel",
            "_view_count": null,
            "_view_module": "@jupyter-widgets/base",
            "_view_module_version": "1.2.0",
            "_view_name": "LayoutView",
            "align_content": null,
            "align_items": null,
            "align_self": null,
            "border": null,
            "bottom": null,
            "display": null,
            "flex": null,
            "flex_flow": null,
            "grid_area": null,
            "grid_auto_columns": null,
            "grid_auto_flow": null,
            "grid_auto_rows": null,
            "grid_column": null,
            "grid_gap": null,
            "grid_row": null,
            "grid_template_areas": null,
            "grid_template_columns": null,
            "grid_template_rows": null,
            "height": null,
            "justify_content": null,
            "justify_items": null,
            "left": null,
            "margin": null,
            "max_height": null,
            "max_width": null,
            "min_height": null,
            "min_width": null,
            "object_fit": null,
            "object_position": null,
            "order": null,
            "overflow": null,
            "overflow_x": null,
            "overflow_y": null,
            "padding": null,
            "right": null,
            "top": null,
            "visibility": null,
            "width": null
          }
        },
        "47aea46e06d04c8aacbf6763bfb89171": {
          "model_module": "@jupyter-widgets/base",
          "model_module_version": "1.2.0",
          "model_name": "LayoutModel",
          "state": {
            "_model_module": "@jupyter-widgets/base",
            "_model_module_version": "1.2.0",
            "_model_name": "LayoutModel",
            "_view_count": null,
            "_view_module": "@jupyter-widgets/base",
            "_view_module_version": "1.2.0",
            "_view_name": "LayoutView",
            "align_content": null,
            "align_items": null,
            "align_self": null,
            "border": null,
            "bottom": null,
            "display": null,
            "flex": null,
            "flex_flow": null,
            "grid_area": null,
            "grid_auto_columns": null,
            "grid_auto_flow": null,
            "grid_auto_rows": null,
            "grid_column": null,
            "grid_gap": null,
            "grid_row": null,
            "grid_template_areas": null,
            "grid_template_columns": null,
            "grid_template_rows": null,
            "height": null,
            "justify_content": null,
            "justify_items": null,
            "left": null,
            "margin": null,
            "max_height": null,
            "max_width": null,
            "min_height": null,
            "min_width": null,
            "object_fit": null,
            "object_position": null,
            "order": null,
            "overflow": null,
            "overflow_x": null,
            "overflow_y": null,
            "padding": null,
            "right": null,
            "top": null,
            "visibility": null,
            "width": null
          }
        },
        "58d74b48718a4744bd4bb78996cdbcd9": {
          "model_module": "@jupyter-widgets/controls",
          "model_module_version": "1.5.0",
          "model_name": "HTMLModel",
          "state": {
            "_dom_classes": [],
            "_model_module": "@jupyter-widgets/controls",
            "_model_module_version": "1.5.0",
            "_model_name": "HTMLModel",
            "_view_count": null,
            "_view_module": "@jupyter-widgets/controls",
            "_view_module_version": "1.5.0",
            "_view_name": "HTMLView",
            "description": "",
            "description_tooltip": null,
            "layout": "IPY_MODEL_a25219a91ef44b56923ed78f3dfa31dd",
            "placeholder": "​",
            "style": "IPY_MODEL_1bdb687f9cd54a43a5365c61e3380bb9",
            "value": " 3/3 [00:00&lt;00:00, 32.20it/s]"
          }
        },
        "6474de7a2ba249029eead28ba065e7a5": {
          "model_module": "@jupyter-widgets/base",
          "model_module_version": "1.2.0",
          "model_name": "LayoutModel",
          "state": {
            "_model_module": "@jupyter-widgets/base",
            "_model_module_version": "1.2.0",
            "_model_name": "LayoutModel",
            "_view_count": null,
            "_view_module": "@jupyter-widgets/base",
            "_view_module_version": "1.2.0",
            "_view_name": "LayoutView",
            "align_content": null,
            "align_items": null,
            "align_self": null,
            "border": null,
            "bottom": null,
            "display": null,
            "flex": null,
            "flex_flow": null,
            "grid_area": null,
            "grid_auto_columns": null,
            "grid_auto_flow": null,
            "grid_auto_rows": null,
            "grid_column": null,
            "grid_gap": null,
            "grid_row": null,
            "grid_template_areas": null,
            "grid_template_columns": null,
            "grid_template_rows": null,
            "height": null,
            "justify_content": null,
            "justify_items": null,
            "left": null,
            "margin": null,
            "max_height": null,
            "max_width": null,
            "min_height": null,
            "min_width": null,
            "object_fit": null,
            "object_position": null,
            "order": null,
            "overflow": null,
            "overflow_x": null,
            "overflow_y": null,
            "padding": null,
            "right": null,
            "top": null,
            "visibility": null,
            "width": null
          }
        },
        "6a800e017eb74adabfa1b617b61e3a38": {
          "model_module": "@jupyter-widgets/controls",
          "model_module_version": "1.5.0",
          "model_name": "ProgressStyleModel",
          "state": {
            "_model_module": "@jupyter-widgets/controls",
            "_model_module_version": "1.5.0",
            "_model_name": "ProgressStyleModel",
            "_view_count": null,
            "_view_module": "@jupyter-widgets/base",
            "_view_module_version": "1.2.0",
            "_view_name": "StyleView",
            "bar_color": null,
            "description_width": ""
          }
        },
        "718b85f15d3c4d059d1f55260995e11b": {
          "model_module": "@jupyter-widgets/controls",
          "model_module_version": "1.5.0",
          "model_name": "HTMLModel",
          "state": {
            "_dom_classes": [],
            "_model_module": "@jupyter-widgets/controls",
            "_model_module_version": "1.5.0",
            "_model_name": "HTMLModel",
            "_view_count": null,
            "_view_module": "@jupyter-widgets/controls",
            "_view_module_version": "1.5.0",
            "_view_name": "HTMLView",
            "description": "",
            "description_tooltip": null,
            "layout": "IPY_MODEL_b6633e49fa644a00b60f931000899315",
            "placeholder": "​",
            "style": "IPY_MODEL_99d82a1f9aaf4d45b8e20d04b678595c",
            "value": " 3/3 [00:04&lt;00:00,  1.05s/it]"
          }
        },
        "82542cc499f04355bf66d4a1ed0fd5fc": {
          "model_module": "@jupyter-widgets/controls",
          "model_module_version": "1.5.0",
          "model_name": "HTMLModel",
          "state": {
            "_dom_classes": [],
            "_model_module": "@jupyter-widgets/controls",
            "_model_module_version": "1.5.0",
            "_model_name": "HTMLModel",
            "_view_count": null,
            "_view_module": "@jupyter-widgets/controls",
            "_view_module_version": "1.5.0",
            "_view_name": "HTMLView",
            "description": "",
            "description_tooltip": null,
            "layout": "IPY_MODEL_f68210d5573c44fa9b38f7ced752c3ee",
            "placeholder": "​",
            "style": "IPY_MODEL_9cd42d30e7624194b17524e7b2b47da6",
            "value": ""
          }
        },
        "85b390ffae624b728bc85837b1c7a65d": {
          "model_module": "@jupyter-widgets/controls",
          "model_module_version": "1.5.0",
          "model_name": "DescriptionStyleModel",
          "state": {
            "_model_module": "@jupyter-widgets/controls",
            "_model_module_version": "1.5.0",
            "_model_name": "DescriptionStyleModel",
            "_view_count": null,
            "_view_module": "@jupyter-widgets/base",
            "_view_module_version": "1.2.0",
            "_view_name": "StyleView",
            "description_width": ""
          }
        },
        "967b8ebca3c04d3b9d0ad4f3966c1927": {
          "model_module": "@jupyter-widgets/controls",
          "model_module_version": "1.5.0",
          "model_name": "DescriptionStyleModel",
          "state": {
            "_model_module": "@jupyter-widgets/controls",
            "_model_module_version": "1.5.0",
            "_model_name": "DescriptionStyleModel",
            "_view_count": null,
            "_view_module": "@jupyter-widgets/base",
            "_view_module_version": "1.2.0",
            "_view_name": "StyleView",
            "description_width": ""
          }
        },
        "99d82a1f9aaf4d45b8e20d04b678595c": {
          "model_module": "@jupyter-widgets/controls",
          "model_module_version": "1.5.0",
          "model_name": "DescriptionStyleModel",
          "state": {
            "_model_module": "@jupyter-widgets/controls",
            "_model_module_version": "1.5.0",
            "_model_name": "DescriptionStyleModel",
            "_view_count": null,
            "_view_module": "@jupyter-widgets/base",
            "_view_module_version": "1.2.0",
            "_view_name": "StyleView",
            "description_width": ""
          }
        },
        "9cd42d30e7624194b17524e7b2b47da6": {
          "model_module": "@jupyter-widgets/controls",
          "model_module_version": "1.5.0",
          "model_name": "DescriptionStyleModel",
          "state": {
            "_model_module": "@jupyter-widgets/controls",
            "_model_module_version": "1.5.0",
            "_model_name": "DescriptionStyleModel",
            "_view_count": null,
            "_view_module": "@jupyter-widgets/base",
            "_view_module_version": "1.2.0",
            "_view_name": "StyleView",
            "description_width": ""
          }
        },
        "a25219a91ef44b56923ed78f3dfa31dd": {
          "model_module": "@jupyter-widgets/base",
          "model_module_version": "1.2.0",
          "model_name": "LayoutModel",
          "state": {
            "_model_module": "@jupyter-widgets/base",
            "_model_module_version": "1.2.0",
            "_model_name": "LayoutModel",
            "_view_count": null,
            "_view_module": "@jupyter-widgets/base",
            "_view_module_version": "1.2.0",
            "_view_name": "LayoutView",
            "align_content": null,
            "align_items": null,
            "align_self": null,
            "border": null,
            "bottom": null,
            "display": null,
            "flex": null,
            "flex_flow": null,
            "grid_area": null,
            "grid_auto_columns": null,
            "grid_auto_flow": null,
            "grid_auto_rows": null,
            "grid_column": null,
            "grid_gap": null,
            "grid_row": null,
            "grid_template_areas": null,
            "grid_template_columns": null,
            "grid_template_rows": null,
            "height": null,
            "justify_content": null,
            "justify_items": null,
            "left": null,
            "margin": null,
            "max_height": null,
            "max_width": null,
            "min_height": null,
            "min_width": null,
            "object_fit": null,
            "object_position": null,
            "order": null,
            "overflow": null,
            "overflow_x": null,
            "overflow_y": null,
            "padding": null,
            "right": null,
            "top": null,
            "visibility": null,
            "width": null
          }
        },
        "a2ccbb95b9f944d1833741f0e0cf04b7": {
          "model_module": "@jupyter-widgets/controls",
          "model_module_version": "1.5.0",
          "model_name": "FloatProgressModel",
          "state": {
            "_dom_classes": [],
            "_model_module": "@jupyter-widgets/controls",
            "_model_module_version": "1.5.0",
            "_model_name": "FloatProgressModel",
            "_view_count": null,
            "_view_module": "@jupyter-widgets/controls",
            "_view_module_version": "1.5.0",
            "_view_name": "ProgressView",
            "bar_style": "success",
            "description": "",
            "description_tooltip": null,
            "layout": "IPY_MODEL_1d94bde31b5d4418a12e6e6a8eb13438",
            "max": 1,
            "min": 0,
            "orientation": "horizontal",
            "style": "IPY_MODEL_ce9dd469fa5a437abf874dc5ffe1eb0d",
            "value": 0
          }
        },
        "a76ab8902efb4666af116f6b75c4653b": {
          "model_module": "@jupyter-widgets/controls",
          "model_module_version": "1.5.0",
          "model_name": "FloatProgressModel",
          "state": {
            "_dom_classes": [],
            "_model_module": "@jupyter-widgets/controls",
            "_model_module_version": "1.5.0",
            "_model_name": "FloatProgressModel",
            "_view_count": null,
            "_view_module": "@jupyter-widgets/controls",
            "_view_module_version": "1.5.0",
            "_view_name": "ProgressView",
            "bar_style": "success",
            "description": "",
            "description_tooltip": null,
            "layout": "IPY_MODEL_c1df4352b4c0418bb2c56e4c7f2ae605",
            "max": 3,
            "min": 0,
            "orientation": "horizontal",
            "style": "IPY_MODEL_6a800e017eb74adabfa1b617b61e3a38",
            "value": 3
          }
        },
        "a92c3494f61a4a67b1b50970e5098627": {
          "model_module": "@jupyter-widgets/controls",
          "model_module_version": "1.5.0",
          "model_name": "HBoxModel",
          "state": {
            "_dom_classes": [],
            "_model_module": "@jupyter-widgets/controls",
            "_model_module_version": "1.5.0",
            "_model_name": "HBoxModel",
            "_view_count": null,
            "_view_module": "@jupyter-widgets/controls",
            "_view_module_version": "1.5.0",
            "_view_name": "HBoxView",
            "box_style": "",
            "children": [
              "IPY_MODEL_b942ec6716f843e38f61c704a3e18aa8",
              "IPY_MODEL_adbc0cf2937a4c50a363846bd724cdf5",
              "IPY_MODEL_718b85f15d3c4d059d1f55260995e11b"
            ],
            "layout": "IPY_MODEL_47aea46e06d04c8aacbf6763bfb89171"
          }
        },
        "adbc0cf2937a4c50a363846bd724cdf5": {
          "model_module": "@jupyter-widgets/controls",
          "model_module_version": "1.5.0",
          "model_name": "FloatProgressModel",
          "state": {
            "_dom_classes": [],
            "_model_module": "@jupyter-widgets/controls",
            "_model_module_version": "1.5.0",
            "_model_name": "FloatProgressModel",
            "_view_count": null,
            "_view_module": "@jupyter-widgets/controls",
            "_view_module_version": "1.5.0",
            "_view_name": "ProgressView",
            "bar_style": "success",
            "description": "",
            "description_tooltip": null,
            "layout": "IPY_MODEL_cdf35ef3827f4052ab6410d9ca712983",
            "max": 3,
            "min": 0,
            "orientation": "horizontal",
            "style": "IPY_MODEL_f6a8fc45e4dd47aa94e55ada60739279",
            "value": 3
          }
        },
        "b6633e49fa644a00b60f931000899315": {
          "model_module": "@jupyter-widgets/base",
          "model_module_version": "1.2.0",
          "model_name": "LayoutModel",
          "state": {
            "_model_module": "@jupyter-widgets/base",
            "_model_module_version": "1.2.0",
            "_model_name": "LayoutModel",
            "_view_count": null,
            "_view_module": "@jupyter-widgets/base",
            "_view_module_version": "1.2.0",
            "_view_name": "LayoutView",
            "align_content": null,
            "align_items": null,
            "align_self": null,
            "border": null,
            "bottom": null,
            "display": null,
            "flex": null,
            "flex_flow": null,
            "grid_area": null,
            "grid_auto_columns": null,
            "grid_auto_flow": null,
            "grid_auto_rows": null,
            "grid_column": null,
            "grid_gap": null,
            "grid_row": null,
            "grid_template_areas": null,
            "grid_template_columns": null,
            "grid_template_rows": null,
            "height": null,
            "justify_content": null,
            "justify_items": null,
            "left": null,
            "margin": null,
            "max_height": null,
            "max_width": null,
            "min_height": null,
            "min_width": null,
            "object_fit": null,
            "object_position": null,
            "order": null,
            "overflow": null,
            "overflow_x": null,
            "overflow_y": null,
            "padding": null,
            "right": null,
            "top": null,
            "visibility": null,
            "width": null
          }
        },
        "b942ec6716f843e38f61c704a3e18aa8": {
          "model_module": "@jupyter-widgets/controls",
          "model_module_version": "1.5.0",
          "model_name": "HTMLModel",
          "state": {
            "_dom_classes": [],
            "_model_module": "@jupyter-widgets/controls",
            "_model_module_version": "1.5.0",
            "_model_name": "HTMLModel",
            "_view_count": null,
            "_view_module": "@jupyter-widgets/controls",
            "_view_module_version": "1.5.0",
            "_view_name": "HTMLView",
            "description": "",
            "description_tooltip": null,
            "layout": "IPY_MODEL_6474de7a2ba249029eead28ba065e7a5",
            "placeholder": "​",
            "style": "IPY_MODEL_85b390ffae624b728bc85837b1c7a65d",
            "value": "Fetching 3 files: 100%"
          }
        },
        "c1df4352b4c0418bb2c56e4c7f2ae605": {
          "model_module": "@jupyter-widgets/base",
          "model_module_version": "1.2.0",
          "model_name": "LayoutModel",
          "state": {
            "_model_module": "@jupyter-widgets/base",
            "_model_module_version": "1.2.0",
            "_model_name": "LayoutModel",
            "_view_count": null,
            "_view_module": "@jupyter-widgets/base",
            "_view_module_version": "1.2.0",
            "_view_name": "LayoutView",
            "align_content": null,
            "align_items": null,
            "align_self": null,
            "border": null,
            "bottom": null,
            "display": null,
            "flex": null,
            "flex_flow": null,
            "grid_area": null,
            "grid_auto_columns": null,
            "grid_auto_flow": null,
            "grid_auto_rows": null,
            "grid_column": null,
            "grid_gap": null,
            "grid_row": null,
            "grid_template_areas": null,
            "grid_template_columns": null,
            "grid_template_rows": null,
            "height": null,
            "justify_content": null,
            "justify_items": null,
            "left": null,
            "margin": null,
            "max_height": null,
            "max_width": null,
            "min_height": null,
            "min_width": null,
            "object_fit": null,
            "object_position": null,
            "order": null,
            "overflow": null,
            "overflow_x": null,
            "overflow_y": null,
            "padding": null,
            "right": null,
            "top": null,
            "visibility": null,
            "width": null
          }
        },
        "cdf35ef3827f4052ab6410d9ca712983": {
          "model_module": "@jupyter-widgets/base",
          "model_module_version": "1.2.0",
          "model_name": "LayoutModel",
          "state": {
            "_model_module": "@jupyter-widgets/base",
            "_model_module_version": "1.2.0",
            "_model_name": "LayoutModel",
            "_view_count": null,
            "_view_module": "@jupyter-widgets/base",
            "_view_module_version": "1.2.0",
            "_view_name": "LayoutView",
            "align_content": null,
            "align_items": null,
            "align_self": null,
            "border": null,
            "bottom": null,
            "display": null,
            "flex": null,
            "flex_flow": null,
            "grid_area": null,
            "grid_auto_columns": null,
            "grid_auto_flow": null,
            "grid_auto_rows": null,
            "grid_column": null,
            "grid_gap": null,
            "grid_row": null,
            "grid_template_areas": null,
            "grid_template_columns": null,
            "grid_template_rows": null,
            "height": null,
            "justify_content": null,
            "justify_items": null,
            "left": null,
            "margin": null,
            "max_height": null,
            "max_width": null,
            "min_height": null,
            "min_width": null,
            "object_fit": null,
            "object_position": null,
            "order": null,
            "overflow": null,
            "overflow_x": null,
            "overflow_y": null,
            "padding": null,
            "right": null,
            "top": null,
            "visibility": null,
            "width": null
          }
        },
        "ce9dd469fa5a437abf874dc5ffe1eb0d": {
          "model_module": "@jupyter-widgets/controls",
          "model_module_version": "1.5.0",
          "model_name": "ProgressStyleModel",
          "state": {
            "_model_module": "@jupyter-widgets/controls",
            "_model_module_version": "1.5.0",
            "_model_name": "ProgressStyleModel",
            "_view_count": null,
            "_view_module": "@jupyter-widgets/base",
            "_view_module_version": "1.2.0",
            "_view_name": "StyleView",
            "bar_color": null,
            "description_width": ""
          }
        },
        "e4257960032f4c919d98695fbb75e93d": {
          "model_module": "@jupyter-widgets/controls",
          "model_module_version": "1.5.0",
          "model_name": "HBoxModel",
          "state": {
            "_dom_classes": [],
            "_model_module": "@jupyter-widgets/controls",
            "_model_module_version": "1.5.0",
            "_model_name": "HBoxModel",
            "_view_count": null,
            "_view_module": "@jupyter-widgets/controls",
            "_view_module_version": "1.5.0",
            "_view_name": "HBoxView",
            "box_style": "",
            "children": [
              "IPY_MODEL_05cc6795cd194e9796df03576405424b",
              "IPY_MODEL_a76ab8902efb4666af116f6b75c4653b",
              "IPY_MODEL_58d74b48718a4744bd4bb78996cdbcd9"
            ],
            "layout": "IPY_MODEL_417a5b59b92a40d0944a11031b2f0906"
          }
        },
        "f68210d5573c44fa9b38f7ced752c3ee": {
          "model_module": "@jupyter-widgets/base",
          "model_module_version": "1.2.0",
          "model_name": "LayoutModel",
          "state": {
            "_model_module": "@jupyter-widgets/base",
            "_model_module_version": "1.2.0",
            "_model_name": "LayoutModel",
            "_view_count": null,
            "_view_module": "@jupyter-widgets/base",
            "_view_module_version": "1.2.0",
            "_view_name": "LayoutView",
            "align_content": null,
            "align_items": null,
            "align_self": null,
            "border": null,
            "bottom": null,
            "display": null,
            "flex": null,
            "flex_flow": null,
            "grid_area": null,
            "grid_auto_columns": null,
            "grid_auto_flow": null,
            "grid_auto_rows": null,
            "grid_column": null,
            "grid_gap": null,
            "grid_row": null,
            "grid_template_areas": null,
            "grid_template_columns": null,
            "grid_template_rows": null,
            "height": null,
            "justify_content": null,
            "justify_items": null,
            "left": null,
            "margin": null,
            "max_height": null,
            "max_width": null,
            "min_height": null,
            "min_width": null,
            "object_fit": null,
            "object_position": null,
            "order": null,
            "overflow": null,
            "overflow_x": null,
            "overflow_y": null,
            "padding": null,
            "right": null,
            "top": null,
            "visibility": null,
            "width": null
          }
        },
        "f6a8fc45e4dd47aa94e55ada60739279": {
          "model_module": "@jupyter-widgets/controls",
          "model_module_version": "1.5.0",
          "model_name": "ProgressStyleModel",
          "state": {
            "_model_module": "@jupyter-widgets/controls",
            "_model_module_version": "1.5.0",
            "_model_name": "ProgressStyleModel",
            "_view_count": null,
            "_view_module": "@jupyter-widgets/base",
            "_view_module_version": "1.2.0",
            "_view_name": "StyleView",
            "bar_color": null,
            "description_width": ""
          }
        }
      }
    }
  },
  "nbformat": 4,
  "nbformat_minor": 0
}
